{
 "cells": [
  {
   "cell_type": "code",
   "execution_count": 1,
   "metadata": {},
   "outputs": [
    {
     "name": "stdout",
     "output_type": "stream",
     "text": [
      "+-----------------------------------------------------------------------------------+\n",
      "|                                                                                   |\n",
      "|                                                                                   |\n",
      "|      ---------  .    .   +-----         +--+        ^       .     .   +-----      |\n",
      "|          |      |    |   |            /            / \\      |\\   /|   |           |\n",
      "|          |      +----+   +-----      {   +--+     /   \\     | \\ / |   +-----      |\n",
      "|          |      |    |   |            \\     /    /-----\\    |  *  |   |           |\n",
      "|          |      |    |   +-----         +--+    /       \\   |     |   +-----      |\n",
      "|                                                                                   |\n",
      "|                                                                                   |\n",
      "|                           A Probabilistic Empirical Study                         |\n",
      "|                      Visit github.com/MrWhiteRichard for more.                    |\n",
      "|                                                                                   |\n",
      "|                                                                                   |\n",
      "+-----------------------------------------------------------------------------------+ \n",
      "\n"
     ]
    }
   ],
   "source": [
    "with open(\"title.txt\") as f:\n",
    "    print(f.read().replace(\"Â\", \"\"), \"\\n\")"
   ]
  },
  {
   "cell_type": "code",
   "execution_count": 2,
   "metadata": {},
   "outputs": [],
   "source": [
    "from outsource import TheGame"
   ]
  },
  {
   "cell_type": "code",
   "execution_count": 3,
   "metadata": {},
   "outputs": [],
   "source": [
    "def play(players_amount):\n",
    "\n",
    "    thegame = TheGame(players_amount)\n",
    "    thegame.play_game()\n",
    "\n",
    "    laid_down_cards = len(thegame.lists[\"up\"][0])-1 + len(thegame.lists[\"down\"][0])-1 \\\n",
    "                    + len(thegame.lists[\"up\"][1])-1 + len(thegame.lists[\"down\"][1])-1\n",
    "\n",
    "    return laid_down_cards\n",
    "\n",
    "def experiment(players_amount, experiments_amount=1):\n",
    "    elements = [play(players_amount) for _ in range(experiments_amount)]\n",
    "    with open(f\"{players_amount}.txt\", \"a\") as textfile:\n",
    "        for element in elements:\n",
    "            textfile.write((str(element)) + \"\\n\")\n",
    "\n",
    "ROUND_DECIMALS = 4\n",
    "def get_stats(players_amount):\n",
    "\n",
    "    with open(f\"{players_amount}.txt\", \"r\") as textfile:\n",
    "        elements = [int(element) for element in textfile.read().split(\"\\n\")[:-1]]\n",
    "\n",
    "    wins = 0\n",
    "    for element in elements:\n",
    "        if element == 98:\n",
    "            wins += 1\n",
    "\n",
    "    return {\n",
    "        \"average cards laid\": round(sum(elements) / len(elements), ROUND_DECIMALS),\n",
    "        \"average wins\": round(wins / len(elements), ROUND_DECIMALS),\n",
    "        \"wins\": wins,\n",
    "        \"games\": len(elements),\n",
    "    }\n",
    "\n",
    "def clear_experiments(players_amounts=None):\n",
    "    if players_amounts is None: players_amounts = [2, 3, 4]\n",
    "    if type(players_amounts) is int: players_amounts = [players_amounts]\n",
    "    for players_amount in players_amounts:\n",
    "        with open(f\"{players_amount}.txt\", \"w\") as textfile:\n",
    "            textfile.write(\"\")\n",
    "            "
   ]
  },
  {
   "cell_type": "code",
   "execution_count": 4,
   "metadata": {},
   "outputs": [],
   "source": [
    "clear_experiments()"
   ]
  },
  {
   "cell_type": "markdown",
   "metadata": {},
   "source": [
    "# 2 Players"
   ]
  },
  {
   "cell_type": "code",
   "execution_count": 5,
   "metadata": {},
   "outputs": [
    {
     "data": {
      "text/plain": [
       "{'average cards laid': 77.168,\n",
       " 'average wins': 0.029,\n",
       " 'wins': 29,\n",
       " 'games': 1000}"
      ]
     },
     "execution_count": 5,
     "metadata": {},
     "output_type": "execute_result"
    }
   ],
   "source": [
    "experiment(2, 1000)\n",
    "get_stats(2)"
   ]
  },
  {
   "cell_type": "markdown",
   "metadata": {},
   "source": [
    "# 3 Players"
   ]
  },
  {
   "cell_type": "code",
   "execution_count": 6,
   "metadata": {},
   "outputs": [
    {
     "data": {
      "text/plain": [
       "{'average cards laid': 87.676, 'average wins': 0.1, 'wins': 100, 'games': 1000}"
      ]
     },
     "execution_count": 6,
     "metadata": {},
     "output_type": "execute_result"
    }
   ],
   "source": [
    "experiment(3, 1000)\n",
    "get_stats(3)"
   ]
  },
  {
   "cell_type": "markdown",
   "metadata": {},
   "source": [
    "# 4 Players"
   ]
  },
  {
   "cell_type": "code",
   "execution_count": 7,
   "metadata": {},
   "outputs": [
    {
     "data": {
      "text/plain": [
       "{'average cards laid': 91.249,\n",
       " 'average wins': 0.172,\n",
       " 'wins': 172,\n",
       " 'games': 1000}"
      ]
     },
     "execution_count": 7,
     "metadata": {},
     "output_type": "execute_result"
    }
   ],
   "source": [
    "experiment(4, 1000)\n",
    "get_stats(4)"
   ]
  }
 ],
 "metadata": {
  "kernelspec": {
   "display_name": "Python 3.10.1 64-bit",
   "language": "python",
   "name": "python3"
  },
  "language_info": {
   "codemirror_mode": {
    "name": "ipython",
    "version": 3
   },
   "file_extension": ".py",
   "mimetype": "text/x-python",
   "name": "python",
   "nbconvert_exporter": "python",
   "pygments_lexer": "ipython3",
   "version": "3.10.1"
  },
  "orig_nbformat": 4,
  "vscode": {
   "interpreter": {
    "hash": "1a7892181bc6a8b5934ec9e9bbb9c30c52104e5f153701f05479b274bedc3f5b"
   }
  }
 },
 "nbformat": 4,
 "nbformat_minor": 2
}
